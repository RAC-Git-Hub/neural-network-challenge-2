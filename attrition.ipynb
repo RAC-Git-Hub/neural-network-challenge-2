{
  "cells": [
    {
      "cell_type": "markdown",
      "metadata": {
        "id": "alIIEHibGc3M"
      },
      "source": [
        "## Part 1: Preprocessing"
      ]
    },
    {
      "cell_type": "code",
      "execution_count": 90,
      "metadata": {
        "colab": {
          "base_uri": "https://localhost:8080/",
          "height": 325
        },
        "id": "6eDUJ4NtGc3P",
        "outputId": "2480098c-135c-4cbf-9552-018494ee8ff5"
      },
      "outputs": [
        {
          "data": {
            "text/html": [
              "<div>\n",
              "<style scoped>\n",
              "    .dataframe tbody tr th:only-of-type {\n",
              "        vertical-align: middle;\n",
              "    }\n",
              "\n",
              "    .dataframe tbody tr th {\n",
              "        vertical-align: top;\n",
              "    }\n",
              "\n",
              "    .dataframe thead th {\n",
              "        text-align: right;\n",
              "    }\n",
              "</style>\n",
              "<table border=\"1\" class=\"dataframe\">\n",
              "  <thead>\n",
              "    <tr style=\"text-align: right;\">\n",
              "      <th></th>\n",
              "      <th>Age</th>\n",
              "      <th>Attrition</th>\n",
              "      <th>BusinessTravel</th>\n",
              "      <th>Department</th>\n",
              "      <th>DistanceFromHome</th>\n",
              "      <th>Education</th>\n",
              "      <th>EducationField</th>\n",
              "      <th>EnvironmentSatisfaction</th>\n",
              "      <th>HourlyRate</th>\n",
              "      <th>JobInvolvement</th>\n",
              "      <th>...</th>\n",
              "      <th>PerformanceRating</th>\n",
              "      <th>RelationshipSatisfaction</th>\n",
              "      <th>StockOptionLevel</th>\n",
              "      <th>TotalWorkingYears</th>\n",
              "      <th>TrainingTimesLastYear</th>\n",
              "      <th>WorkLifeBalance</th>\n",
              "      <th>YearsAtCompany</th>\n",
              "      <th>YearsInCurrentRole</th>\n",
              "      <th>YearsSinceLastPromotion</th>\n",
              "      <th>YearsWithCurrManager</th>\n",
              "    </tr>\n",
              "  </thead>\n",
              "  <tbody>\n",
              "    <tr>\n",
              "      <th>0</th>\n",
              "      <td>41</td>\n",
              "      <td>Yes</td>\n",
              "      <td>Travel_Rarely</td>\n",
              "      <td>Sales</td>\n",
              "      <td>1</td>\n",
              "      <td>2</td>\n",
              "      <td>Life Sciences</td>\n",
              "      <td>2</td>\n",
              "      <td>94</td>\n",
              "      <td>3</td>\n",
              "      <td>...</td>\n",
              "      <td>3</td>\n",
              "      <td>1</td>\n",
              "      <td>0</td>\n",
              "      <td>8</td>\n",
              "      <td>0</td>\n",
              "      <td>1</td>\n",
              "      <td>6</td>\n",
              "      <td>4</td>\n",
              "      <td>0</td>\n",
              "      <td>5</td>\n",
              "    </tr>\n",
              "    <tr>\n",
              "      <th>1</th>\n",
              "      <td>49</td>\n",
              "      <td>No</td>\n",
              "      <td>Travel_Frequently</td>\n",
              "      <td>Research &amp; Development</td>\n",
              "      <td>8</td>\n",
              "      <td>1</td>\n",
              "      <td>Life Sciences</td>\n",
              "      <td>3</td>\n",
              "      <td>61</td>\n",
              "      <td>2</td>\n",
              "      <td>...</td>\n",
              "      <td>4</td>\n",
              "      <td>4</td>\n",
              "      <td>1</td>\n",
              "      <td>10</td>\n",
              "      <td>3</td>\n",
              "      <td>3</td>\n",
              "      <td>10</td>\n",
              "      <td>7</td>\n",
              "      <td>1</td>\n",
              "      <td>7</td>\n",
              "    </tr>\n",
              "    <tr>\n",
              "      <th>2</th>\n",
              "      <td>37</td>\n",
              "      <td>Yes</td>\n",
              "      <td>Travel_Rarely</td>\n",
              "      <td>Research &amp; Development</td>\n",
              "      <td>2</td>\n",
              "      <td>2</td>\n",
              "      <td>Other</td>\n",
              "      <td>4</td>\n",
              "      <td>92</td>\n",
              "      <td>2</td>\n",
              "      <td>...</td>\n",
              "      <td>3</td>\n",
              "      <td>2</td>\n",
              "      <td>0</td>\n",
              "      <td>7</td>\n",
              "      <td>3</td>\n",
              "      <td>3</td>\n",
              "      <td>0</td>\n",
              "      <td>0</td>\n",
              "      <td>0</td>\n",
              "      <td>0</td>\n",
              "    </tr>\n",
              "    <tr>\n",
              "      <th>3</th>\n",
              "      <td>33</td>\n",
              "      <td>No</td>\n",
              "      <td>Travel_Frequently</td>\n",
              "      <td>Research &amp; Development</td>\n",
              "      <td>3</td>\n",
              "      <td>4</td>\n",
              "      <td>Life Sciences</td>\n",
              "      <td>4</td>\n",
              "      <td>56</td>\n",
              "      <td>3</td>\n",
              "      <td>...</td>\n",
              "      <td>3</td>\n",
              "      <td>3</td>\n",
              "      <td>0</td>\n",
              "      <td>8</td>\n",
              "      <td>3</td>\n",
              "      <td>3</td>\n",
              "      <td>8</td>\n",
              "      <td>7</td>\n",
              "      <td>3</td>\n",
              "      <td>0</td>\n",
              "    </tr>\n",
              "    <tr>\n",
              "      <th>4</th>\n",
              "      <td>27</td>\n",
              "      <td>No</td>\n",
              "      <td>Travel_Rarely</td>\n",
              "      <td>Research &amp; Development</td>\n",
              "      <td>2</td>\n",
              "      <td>1</td>\n",
              "      <td>Medical</td>\n",
              "      <td>1</td>\n",
              "      <td>40</td>\n",
              "      <td>3</td>\n",
              "      <td>...</td>\n",
              "      <td>3</td>\n",
              "      <td>4</td>\n",
              "      <td>1</td>\n",
              "      <td>6</td>\n",
              "      <td>3</td>\n",
              "      <td>3</td>\n",
              "      <td>2</td>\n",
              "      <td>2</td>\n",
              "      <td>2</td>\n",
              "      <td>2</td>\n",
              "    </tr>\n",
              "  </tbody>\n",
              "</table>\n",
              "<p>5 rows × 27 columns</p>\n",
              "</div>"
            ],
            "text/plain": [
              "   Age Attrition     BusinessTravel              Department  DistanceFromHome  \\\n",
              "0   41       Yes      Travel_Rarely                   Sales                 1   \n",
              "1   49        No  Travel_Frequently  Research & Development                 8   \n",
              "2   37       Yes      Travel_Rarely  Research & Development                 2   \n",
              "3   33        No  Travel_Frequently  Research & Development                 3   \n",
              "4   27        No      Travel_Rarely  Research & Development                 2   \n",
              "\n",
              "   Education EducationField  EnvironmentSatisfaction  HourlyRate  \\\n",
              "0          2  Life Sciences                        2          94   \n",
              "1          1  Life Sciences                        3          61   \n",
              "2          2          Other                        4          92   \n",
              "3          4  Life Sciences                        4          56   \n",
              "4          1        Medical                        1          40   \n",
              "\n",
              "   JobInvolvement  ...  PerformanceRating RelationshipSatisfaction  \\\n",
              "0               3  ...                  3                        1   \n",
              "1               2  ...                  4                        4   \n",
              "2               2  ...                  3                        2   \n",
              "3               3  ...                  3                        3   \n",
              "4               3  ...                  3                        4   \n",
              "\n",
              "   StockOptionLevel TotalWorkingYears  TrainingTimesLastYear WorkLifeBalance  \\\n",
              "0                 0                 8                      0               1   \n",
              "1                 1                10                      3               3   \n",
              "2                 0                 7                      3               3   \n",
              "3                 0                 8                      3               3   \n",
              "4                 1                 6                      3               3   \n",
              "\n",
              "   YearsAtCompany  YearsInCurrentRole  YearsSinceLastPromotion  \\\n",
              "0               6                   4                        0   \n",
              "1              10                   7                        1   \n",
              "2               0                   0                        0   \n",
              "3               8                   7                        3   \n",
              "4               2                   2                        2   \n",
              "\n",
              "   YearsWithCurrManager  \n",
              "0                     5  \n",
              "1                     7  \n",
              "2                     0  \n",
              "3                     0  \n",
              "4                     2  \n",
              "\n",
              "[5 rows x 27 columns]"
            ]
          },
          "execution_count": 90,
          "metadata": {},
          "output_type": "execute_result"
        }
      ],
      "source": [
        "# Import our dependencies\n",
        "from sklearn.model_selection import train_test_split\n",
        "from sklearn.preprocessing import StandardScaler, LabelEncoder, OneHotEncoder\n",
        "import pandas as pd\n",
        "import numpy as np\n",
        "from tensorflow.keras.models import Model\n",
        "from tensorflow.keras import layers\n",
        "\n",
        "#  Import and read the attrition data\n",
        "attrition_df = pd.read_csv('https://static.bc-edx.com/ai/ail-v-1-0/m19/lms/datasets/attrition.csv')\n",
        "attrition_df.head()"
      ]
    },
    {
      "cell_type": "code",
      "execution_count": 91,
      "metadata": {
        "colab": {
          "base_uri": "https://localhost:8080/"
        },
        "id": "g22aQSY4Gc3Q",
        "outputId": "1f5c13c1-b981-4e40-a7ed-dd3fe6f1b81e"
      },
      "outputs": [
        {
          "data": {
            "text/plain": [
              "Age                         43\n",
              "Attrition                    2\n",
              "BusinessTravel               3\n",
              "Department                   3\n",
              "DistanceFromHome            29\n",
              "Education                    5\n",
              "EducationField               6\n",
              "EnvironmentSatisfaction      4\n",
              "HourlyRate                  71\n",
              "JobInvolvement               4\n",
              "JobLevel                     5\n",
              "JobRole                      9\n",
              "JobSatisfaction              4\n",
              "MaritalStatus                3\n",
              "NumCompaniesWorked          10\n",
              "OverTime                     2\n",
              "PercentSalaryHike           15\n",
              "PerformanceRating            2\n",
              "RelationshipSatisfaction     4\n",
              "StockOptionLevel             4\n",
              "TotalWorkingYears           40\n",
              "TrainingTimesLastYear        7\n",
              "WorkLifeBalance              4\n",
              "YearsAtCompany              37\n",
              "YearsInCurrentRole          19\n",
              "YearsSinceLastPromotion     16\n",
              "YearsWithCurrManager        18\n",
              "dtype: int64"
            ]
          },
          "execution_count": 91,
          "metadata": {},
          "output_type": "execute_result"
        }
      ],
      "source": [
        "# Determine the number of unique values in each column.\n",
        "attrition_df.nunique()"
      ]
    },
    {
      "cell_type": "code",
      "execution_count": 92,
      "metadata": {},
      "outputs": [
        {
          "data": {
            "text/plain": [
              "Department\n",
              "Research & Development    961\n",
              "Sales                     446\n",
              "Human Resources            63\n",
              "Name: count, dtype: int64"
            ]
          },
          "execution_count": 92,
          "metadata": {},
          "output_type": "execute_result"
        }
      ],
      "source": [
        "attrition_df['Department'].value_counts()"
      ]
    },
    {
      "cell_type": "code",
      "execution_count": 93,
      "metadata": {},
      "outputs": [
        {
          "data": {
            "text/plain": [
              "Attrition\n",
              "No     1233\n",
              "Yes     237\n",
              "Name: count, dtype: int64"
            ]
          },
          "execution_count": 93,
          "metadata": {},
          "output_type": "execute_result"
        }
      ],
      "source": [
        "attrition_df['Attrition'].value_counts()"
      ]
    },
    {
      "cell_type": "code",
      "execution_count": 94,
      "metadata": {
        "id": "50vMgBEnJbfM"
      },
      "outputs": [],
      "source": [
        "# Create y_df with the Attrition and Department columns\n",
        "y_df = attrition_df[['Attrition', 'Department']]\n",
        "\n"
      ]
    },
    {
      "cell_type": "code",
      "execution_count": 96,
      "metadata": {
        "colab": {
          "base_uri": "https://localhost:8080/"
        },
        "id": "Virka0zLGc3R",
        "outputId": "dd5aee3a-9458-4ba6-e857-1b234de40915"
      },
      "outputs": [
        {
          "data": {
            "text/plain": [
              "Education                   int64\n",
              "Age                         int64\n",
              "DistanceFromHome            int64\n",
              "JobSatisfaction             int64\n",
              "OverTime                   object\n",
              "StockOptionLevel            int64\n",
              "WorkLifeBalance             int64\n",
              "YearsAtCompany              int64\n",
              "YearsSinceLastPromotion     int64\n",
              "NumCompaniesWorked          int64\n",
              "dtype: object"
            ]
          },
          "execution_count": 96,
          "metadata": {},
          "output_type": "execute_result"
        }
      ],
      "source": [
        "# Create a list of at least 10 column names to use as X data\n",
        "columns = ['Education', 'Age', 'DistanceFromHome', 'JobSatisfaction',\n",
        "           'OverTime', 'StockOptionLevel', 'WorkLifeBalance', 'YearsAtCompany',\n",
        "            'YearsSinceLastPromotion', 'NumCompaniesWorked']\n",
        "\n",
        "# Create X_df using your selected columns\n",
        "X_df = attrition_df[columns]\n",
        "\n",
        "# Show the data types for X_df\n",
        "X_df.dtypes\n",
        "\n"
      ]
    },
    {
      "cell_type": "code",
      "execution_count": 97,
      "metadata": {
        "id": "KaJfdOGUMHMR"
      },
      "outputs": [],
      "source": [
        "# Split the data into training and testing sets\n",
        "from sklearn.model_selection import train_test_split\n",
        "X_train, X_test, y_train, y_test = train_test_split(X_df, y_df, random_state=42)\n"
      ]
    },
    {
      "cell_type": "code",
      "execution_count": 98,
      "metadata": {},
      "outputs": [],
      "source": [
        "# Convert your X data to numeric data types however you see fit\n",
        "\n",
        "# Create a LabelEncoder object\n",
        "le = LabelEncoder()\n",
        "\n",
        "# Loop over each column in X_train and X_test\n",
        "for col in X_train.columns:\n",
        "    # Only encode columns with object datatype\n",
        "    if X_train[col].dtype == 'object':\n",
        "        # Fit the encoder on the training data\n",
        "        le.fit(X_train[col])\n",
        "        # Transform both training and testing data\n",
        "        X_train[col] = le.transform(X_train[col])\n",
        "        X_test[col] = le.transform(X_test[col])"
      ]
    },
    {
      "cell_type": "code",
      "execution_count": 99,
      "metadata": {
        "colab": {
          "base_uri": "https://localhost:8080/"
        },
        "id": "NYubUJqiLCSp",
        "outputId": "53f31721-571c-4c94-d13e-25a715749593"
      },
      "outputs": [
        {
          "data": {
            "text/plain": [
              "OverTime\n",
              "No     1054\n",
              "Yes     416\n",
              "Name: count, dtype: int64"
            ]
          },
          "execution_count": 99,
          "metadata": {},
          "output_type": "execute_result"
        }
      ],
      "source": [
        "# Show value counts of 'Yes'/'No' values\n",
        "X_df['OverTime'].value_counts()\n"
      ]
    },
    {
      "cell_type": "code",
      "execution_count": 100,
      "metadata": {
        "id": "EWA-aIA5Gc3T"
      },
      "outputs": [],
      "source": [
        "# Create a StandardScaler\n",
        "scaler = StandardScaler()\n",
        "\n",
        "# Fit the StandardScaler to the training data\n",
        "X_scaler = scaler.fit(X_train)\n",
        "\n",
        "# Scale the training and testing data\n",
        "X_train_scaled = X_scaler.transform(X_train)\n",
        "X_test_scaled = X_scaler.transform(X_test)\n"
      ]
    },
    {
      "cell_type": "code",
      "execution_count": 101,
      "metadata": {
        "colab": {
          "base_uri": "https://localhost:8080/"
        },
        "id": "-z0Mky8vQSz4",
        "outputId": "debefc85-c20b-48f5-f4d9-91eadd65d36a"
      },
      "outputs": [
        {
          "data": {
            "text/plain": [
              "array([[0., 1., 0.],\n",
              "       [0., 0., 1.],\n",
              "       [0., 0., 1.],\n",
              "       ...,\n",
              "       [0., 1., 0.],\n",
              "       [0., 1., 0.],\n",
              "       [0., 0., 1.]])"
            ]
          },
          "execution_count": 101,
          "metadata": {},
          "output_type": "execute_result"
        }
      ],
      "source": [
        "# Create a OneHotEncoder for the Department column\n",
        "ohe = OneHotEncoder()\n",
        "\n",
        "# Fit the encoder to the training data\n",
        "ohe.fit(y_train[['Department']])\n",
        "\n",
        "# Create two new variables by applying the encoder\n",
        "# to the training and testing data\n",
        "department_encoded_train = ohe.transform(y_train[['Department']])\n",
        "department_encoded_test = ohe.transform(y_test[['Department']])\n",
        "department_encoded_train.toarray()\n",
        "\n",
        "\n",
        "\n",
        "\n"
      ]
    },
    {
      "cell_type": "code",
      "execution_count": 103,
      "metadata": {
        "colab": {
          "base_uri": "https://localhost:8080/"
        },
        "id": "-G4DSpvFRrk4",
        "outputId": "9842e948-8a55-4b80-8fac-f96714e85589"
      },
      "outputs": [
        {
          "data": {
            "text/plain": [
              "array([[1., 0.],\n",
              "       [1., 0.],\n",
              "       [1., 0.],\n",
              "       ...,\n",
              "       [0., 1.],\n",
              "       [1., 0.],\n",
              "       [1., 0.]])"
            ]
          },
          "execution_count": 103,
          "metadata": {},
          "output_type": "execute_result"
        }
      ],
      "source": [
        "# Create a OneHotEncoder for the Attrition column\n",
        "ohe = OneHotEncoder()\n",
        "\n",
        "# Fit the encoder to the training data\n",
        "ohe.fit(y_train[['Attrition']])\n",
        "\n",
        "# Create two new variables by applying the encoder\n",
        "# to the training and testing data\n",
        "attrition_encoded_train = ohe.transform(y_train[['Attrition']])\n",
        "attrition_encoded_test = ohe.transform(y_test[['Attrition']])\n",
        "attrition_encoded_train.toarray()\n"
      ]
    },
    {
      "cell_type": "markdown",
      "metadata": {
        "id": "ykNmu_WWGc3T"
      },
      "source": [
        "## Create, Compile, and Train the Model"
      ]
    },
    {
      "cell_type": "code",
      "execution_count": 104,
      "metadata": {
        "id": "WUptZqmSGc3T"
      },
      "outputs": [],
      "source": [
        "# Find the number of columns in the X training data\n",
        "X_train.shape[1]\n",
        "\n",
        "# Create the input layer\n",
        "input_layer = layers.Input(shape=(10,), name='input')\n",
        "\n",
        "# Create at least two shared layers\n",
        "shared1 = layers.Dense(64, activation='relu', name='shared1')(input_layer)\n",
        "shared2 = layers.Dense(128, activation='relu', name='shared2')(shared1)\n"
      ]
    },
    {
      "cell_type": "code",
      "execution_count": 106,
      "metadata": {
        "id": "JukjTm2yTEqd"
      },
      "outputs": [],
      "source": [
        "# Create a branch for Department\n",
        "# with a hidden layer and an output layer\n",
        "\n",
        "# Create the hidden layer\n",
        "department_hidden = layers.Dense(32, activation='relu', name='department_hidden')(shared2)\n",
        "\n",
        "# Create the output layer\n",
        "department_output = layers.Dense(3, activation='softmax', name='department_output')(department_hidden)\n"
      ]
    },
    {
      "cell_type": "code",
      "execution_count": 108,
      "metadata": {
        "id": "9OqhUiOJUBkR"
      },
      "outputs": [],
      "source": [
        "# Create a branch for Attrition\n",
        "# with a hidden layer and an output layer\n",
        "\n",
        "# Create the hidden layer\n",
        "attrition_hidden = layers.Dense(32, activation='relu', name='attrition_hidden')(shared2)\n",
        "\n",
        "# Create the output layer\n",
        "attrition_output = layers.Dense(2, activation='sigmoid', name='attrition_output')(attrition_hidden)\n"
      ]
    },
    {
      "cell_type": "code",
      "execution_count": 109,
      "metadata": {
        "colab": {
          "base_uri": "https://localhost:8080/"
        },
        "id": "twmuejdxGc3T",
        "outputId": "25096308-b68b-42e4-e4ea-ae82e97c435a"
      },
      "outputs": [
        {
          "name": "stdout",
          "output_type": "stream",
          "text": [
            "Model: \"model_5\"\n",
            "__________________________________________________________________________________________________\n",
            " Layer (type)                Output Shape                 Param #   Connected to                  \n",
            "==================================================================================================\n",
            " input (InputLayer)          [(None, 10)]                 0         []                            \n",
            "                                                                                                  \n",
            " shared1 (Dense)             (None, 64)                   704       ['input[0][0]']               \n",
            "                                                                                                  \n",
            " shared2 (Dense)             (None, 128)                  8320      ['shared1[0][0]']             \n",
            "                                                                                                  \n",
            " department_hidden (Dense)   (None, 32)                   4128      ['shared2[0][0]']             \n",
            "                                                                                                  \n",
            " attrition_hidden (Dense)    (None, 32)                   4128      ['shared2[0][0]']             \n",
            "                                                                                                  \n",
            " department_output (Dense)   (None, 3)                    99        ['department_hidden[0][0]']   \n",
            "                                                                                                  \n",
            " attrition_output (Dense)    (None, 2)                    66        ['attrition_hidden[0][0]']    \n",
            "                                                                                                  \n",
            "==================================================================================================\n",
            "Total params: 17445 (68.14 KB)\n",
            "Trainable params: 17445 (68.14 KB)\n",
            "Non-trainable params: 0 (0.00 Byte)\n",
            "__________________________________________________________________________________________________\n"
          ]
        }
      ],
      "source": [
        "# Create the model\n",
        "model = Model(inputs=input_layer, outputs=[department_output, attrition_output])\n",
        "\n",
        "# Compile the model\n",
        "model.compile(optimizer='adam',\n",
        "              loss={'department_output': 'categorical_crossentropy',\n",
        "                    'attrition_output': 'categorical_crossentropy'},\n",
        "              metrics=['accuracy'])\n",
        "\n",
        "# Summarize the model\n",
        "model.summary()\n",
        "\n"
      ]
    },
    {
      "cell_type": "code",
      "execution_count": 110,
      "metadata": {
        "colab": {
          "base_uri": "https://localhost:8080/"
        },
        "id": "c8oGy0dpGc3U",
        "outputId": "cc667d43-28cf-42d4-d719-c2bc02888d30"
      },
      "outputs": [
        {
          "name": "stdout",
          "output_type": "stream",
          "text": [
            "Epoch 1/100\n"
          ]
        },
        {
          "name": "stdout",
          "output_type": "stream",
          "text": [
            "35/35 - 1s - loss: 1.3064 - department_output_loss: 0.8240 - attrition_output_loss: 0.4824 - department_output_accuracy: 0.6534 - attrition_output_accuracy: 0.8285 - 740ms/epoch - 21ms/step\n",
            "Epoch 2/100\n",
            "35/35 - 0s - loss: 1.1794 - department_output_loss: 0.7718 - attrition_output_loss: 0.4076 - department_output_accuracy: 0.6543 - attrition_output_accuracy: 0.8339 - 52ms/epoch - 1ms/step\n",
            "Epoch 3/100\n",
            "35/35 - 0s - loss: 1.1379 - department_output_loss: 0.7622 - attrition_output_loss: 0.3758 - department_output_accuracy: 0.6561 - attrition_output_accuracy: 0.8503 - 49ms/epoch - 1ms/step\n",
            "Epoch 4/100\n",
            "35/35 - 0s - loss: 1.1158 - department_output_loss: 0.7541 - attrition_output_loss: 0.3617 - department_output_accuracy: 0.6543 - attrition_output_accuracy: 0.8566 - 59ms/epoch - 2ms/step\n",
            "Epoch 5/100\n",
            "35/35 - 0s - loss: 1.0989 - department_output_loss: 0.7475 - attrition_output_loss: 0.3513 - department_output_accuracy: 0.6552 - attrition_output_accuracy: 0.8612 - 53ms/epoch - 2ms/step\n",
            "Epoch 6/100\n",
            "35/35 - 0s - loss: 1.0735 - department_output_loss: 0.7383 - attrition_output_loss: 0.3352 - department_output_accuracy: 0.6534 - attrition_output_accuracy: 0.8648 - 49ms/epoch - 1ms/step\n",
            "Epoch 7/100\n",
            "35/35 - 0s - loss: 1.0583 - department_output_loss: 0.7275 - attrition_output_loss: 0.3309 - department_output_accuracy: 0.6615 - attrition_output_accuracy: 0.8702 - 47ms/epoch - 1ms/step\n",
            "Epoch 8/100\n",
            "35/35 - 0s - loss: 1.0423 - department_output_loss: 0.7218 - attrition_output_loss: 0.3205 - department_output_accuracy: 0.6670 - attrition_output_accuracy: 0.8775 - 50ms/epoch - 1ms/step\n",
            "Epoch 9/100\n",
            "35/35 - 0s - loss: 1.0302 - department_output_loss: 0.7122 - attrition_output_loss: 0.3181 - department_output_accuracy: 0.6670 - attrition_output_accuracy: 0.8730 - 53ms/epoch - 2ms/step\n",
            "Epoch 10/100\n",
            "35/35 - 0s - loss: 1.0177 - department_output_loss: 0.7050 - attrition_output_loss: 0.3127 - department_output_accuracy: 0.6751 - attrition_output_accuracy: 0.8730 - 69ms/epoch - 2ms/step\n",
            "Epoch 11/100\n",
            "35/35 - 0s - loss: 1.0011 - department_output_loss: 0.6955 - attrition_output_loss: 0.3056 - department_output_accuracy: 0.6824 - attrition_output_accuracy: 0.8811 - 68ms/epoch - 2ms/step\n",
            "Epoch 12/100\n",
            "35/35 - 0s - loss: 0.9710 - department_output_loss: 0.6819 - attrition_output_loss: 0.2891 - department_output_accuracy: 0.6815 - attrition_output_accuracy: 0.8829 - 64ms/epoch - 2ms/step\n",
            "Epoch 13/100\n",
            "35/35 - 0s - loss: 0.9544 - department_output_loss: 0.6730 - attrition_output_loss: 0.2814 - department_output_accuracy: 0.7005 - attrition_output_accuracy: 0.8893 - 68ms/epoch - 2ms/step\n",
            "Epoch 14/100\n",
            "35/35 - 0s - loss: 0.9348 - department_output_loss: 0.6566 - attrition_output_loss: 0.2782 - department_output_accuracy: 0.7187 - attrition_output_accuracy: 0.8929 - 67ms/epoch - 2ms/step\n",
            "Epoch 15/100\n",
            "35/35 - 0s - loss: 0.9220 - department_output_loss: 0.6519 - attrition_output_loss: 0.2701 - department_output_accuracy: 0.7069 - attrition_output_accuracy: 0.8984 - 67ms/epoch - 2ms/step\n",
            "Epoch 16/100\n",
            "35/35 - 0s - loss: 0.9123 - department_output_loss: 0.6456 - attrition_output_loss: 0.2667 - department_output_accuracy: 0.7205 - attrition_output_accuracy: 0.8947 - 79ms/epoch - 2ms/step\n",
            "Epoch 17/100\n",
            "35/35 - 0s - loss: 0.8863 - department_output_loss: 0.6242 - attrition_output_loss: 0.2621 - department_output_accuracy: 0.7241 - attrition_output_accuracy: 0.8993 - 63ms/epoch - 2ms/step\n",
            "Epoch 18/100\n",
            "35/35 - 0s - loss: 0.8624 - department_output_loss: 0.6111 - attrition_output_loss: 0.2513 - department_output_accuracy: 0.7486 - attrition_output_accuracy: 0.9065 - 67ms/epoch - 2ms/step\n",
            "Epoch 19/100\n",
            "35/35 - 0s - loss: 0.8407 - department_output_loss: 0.6009 - attrition_output_loss: 0.2399 - department_output_accuracy: 0.7459 - attrition_output_accuracy: 0.9047 - 68ms/epoch - 2ms/step\n",
            "Epoch 20/100\n",
            "35/35 - 0s - loss: 0.8177 - department_output_loss: 0.5848 - attrition_output_loss: 0.2329 - department_output_accuracy: 0.7577 - attrition_output_accuracy: 0.9129 - 69ms/epoch - 2ms/step\n",
            "Epoch 21/100\n",
            "35/35 - 0s - loss: 0.8126 - department_output_loss: 0.5845 - attrition_output_loss: 0.2281 - department_output_accuracy: 0.7441 - attrition_output_accuracy: 0.9138 - 68ms/epoch - 2ms/step\n",
            "Epoch 22/100\n",
            "35/35 - 0s - loss: 0.7746 - department_output_loss: 0.5567 - attrition_output_loss: 0.2179 - department_output_accuracy: 0.7750 - attrition_output_accuracy: 0.9129 - 63ms/epoch - 2ms/step\n",
            "Epoch 23/100\n",
            "35/35 - 0s - loss: 0.7533 - department_output_loss: 0.5380 - attrition_output_loss: 0.2153 - department_output_accuracy: 0.7849 - attrition_output_accuracy: 0.9147 - 67ms/epoch - 2ms/step\n",
            "Epoch 24/100\n",
            "35/35 - 0s - loss: 0.7357 - department_output_loss: 0.5273 - attrition_output_loss: 0.2084 - department_output_accuracy: 0.7913 - attrition_output_accuracy: 0.9211 - 60ms/epoch - 2ms/step\n",
            "Epoch 25/100\n",
            "35/35 - 0s - loss: 0.7176 - department_output_loss: 0.5151 - attrition_output_loss: 0.2025 - department_output_accuracy: 0.8004 - attrition_output_accuracy: 0.9265 - 70ms/epoch - 2ms/step\n",
            "Epoch 26/100\n",
            "35/35 - 0s - loss: 0.7073 - department_output_loss: 0.5070 - attrition_output_loss: 0.2004 - department_output_accuracy: 0.7931 - attrition_output_accuracy: 0.9265 - 71ms/epoch - 2ms/step\n",
            "Epoch 27/100\n",
            "35/35 - 0s - loss: 0.6735 - department_output_loss: 0.4896 - attrition_output_loss: 0.1840 - department_output_accuracy: 0.7995 - attrition_output_accuracy: 0.9319 - 65ms/epoch - 2ms/step\n",
            "Epoch 28/100\n",
            "35/35 - 0s - loss: 0.6490 - department_output_loss: 0.4729 - attrition_output_loss: 0.1761 - department_output_accuracy: 0.8176 - attrition_output_accuracy: 0.9292 - 69ms/epoch - 2ms/step\n",
            "Epoch 29/100\n",
            "35/35 - 0s - loss: 0.6503 - department_output_loss: 0.4746 - attrition_output_loss: 0.1757 - department_output_accuracy: 0.8031 - attrition_output_accuracy: 0.9365 - 69ms/epoch - 2ms/step\n",
            "Epoch 30/100\n",
            "35/35 - 0s - loss: 0.6126 - department_output_loss: 0.4529 - attrition_output_loss: 0.1597 - department_output_accuracy: 0.8194 - attrition_output_accuracy: 0.9401 - 61ms/epoch - 2ms/step\n",
            "Epoch 31/100\n",
            "35/35 - 0s - loss: 0.5816 - department_output_loss: 0.4323 - attrition_output_loss: 0.1493 - department_output_accuracy: 0.8348 - attrition_output_accuracy: 0.9474 - 53ms/epoch - 2ms/step\n",
            "Epoch 32/100\n",
            "35/35 - 0s - loss: 0.5609 - department_output_loss: 0.4138 - attrition_output_loss: 0.1471 - department_output_accuracy: 0.8475 - attrition_output_accuracy: 0.9483 - 44ms/epoch - 1ms/step\n",
            "Epoch 33/100\n",
            "35/35 - 0s - loss: 0.5431 - department_output_loss: 0.4044 - attrition_output_loss: 0.1387 - department_output_accuracy: 0.8412 - attrition_output_accuracy: 0.9583 - 42ms/epoch - 1ms/step\n",
            "Epoch 34/100\n",
            "35/35 - 0s - loss: 0.5319 - department_output_loss: 0.4013 - attrition_output_loss: 0.1306 - department_output_accuracy: 0.8512 - attrition_output_accuracy: 0.9546 - 50ms/epoch - 1ms/step\n",
            "Epoch 35/100\n",
            "35/35 - 0s - loss: 0.5121 - department_output_loss: 0.3799 - attrition_output_loss: 0.1322 - department_output_accuracy: 0.8503 - attrition_output_accuracy: 0.9574 - 53ms/epoch - 2ms/step\n",
            "Epoch 36/100\n",
            "35/35 - 0s - loss: 0.4909 - department_output_loss: 0.3651 - attrition_output_loss: 0.1258 - department_output_accuracy: 0.8575 - attrition_output_accuracy: 0.9537 - 49ms/epoch - 1ms/step\n",
            "Epoch 37/100\n",
            "35/35 - 0s - loss: 0.4720 - department_output_loss: 0.3574 - attrition_output_loss: 0.1146 - department_output_accuracy: 0.8548 - attrition_output_accuracy: 0.9655 - 53ms/epoch - 2ms/step\n",
            "Epoch 38/100\n",
            "35/35 - 0s - loss: 0.4516 - department_output_loss: 0.3429 - attrition_output_loss: 0.1087 - department_output_accuracy: 0.8857 - attrition_output_accuracy: 0.9619 - 52ms/epoch - 1ms/step\n",
            "Epoch 39/100\n",
            "35/35 - 0s - loss: 0.4451 - department_output_loss: 0.3390 - attrition_output_loss: 0.1062 - department_output_accuracy: 0.8739 - attrition_output_accuracy: 0.9655 - 58ms/epoch - 2ms/step\n",
            "Epoch 40/100\n",
            "35/35 - 0s - loss: 0.4228 - department_output_loss: 0.3285 - attrition_output_loss: 0.0943 - department_output_accuracy: 0.8748 - attrition_output_accuracy: 0.9755 - 71ms/epoch - 2ms/step\n",
            "Epoch 41/100\n",
            "35/35 - 0s - loss: 0.4001 - department_output_loss: 0.3110 - attrition_output_loss: 0.0891 - department_output_accuracy: 0.8902 - attrition_output_accuracy: 0.9719 - 68ms/epoch - 2ms/step\n",
            "Epoch 42/100\n",
            "35/35 - 0s - loss: 0.3764 - department_output_loss: 0.2940 - attrition_output_loss: 0.0825 - department_output_accuracy: 0.9029 - attrition_output_accuracy: 0.9782 - 68ms/epoch - 2ms/step\n",
            "Epoch 43/100\n",
            "35/35 - 0s - loss: 0.3832 - department_output_loss: 0.3048 - attrition_output_loss: 0.0784 - department_output_accuracy: 0.8920 - attrition_output_accuracy: 0.9809 - 61ms/epoch - 2ms/step\n",
            "Epoch 44/100\n",
            "35/35 - 0s - loss: 0.3528 - department_output_loss: 0.2757 - attrition_output_loss: 0.0771 - department_output_accuracy: 0.9120 - attrition_output_accuracy: 0.9809 - 65ms/epoch - 2ms/step\n",
            "Epoch 45/100\n",
            "35/35 - 0s - loss: 0.3347 - department_output_loss: 0.2614 - attrition_output_loss: 0.0732 - department_output_accuracy: 0.9156 - attrition_output_accuracy: 0.9782 - 68ms/epoch - 2ms/step\n",
            "Epoch 46/100\n",
            "35/35 - 0s - loss: 0.3195 - department_output_loss: 0.2500 - attrition_output_loss: 0.0696 - department_output_accuracy: 0.9201 - attrition_output_accuracy: 0.9837 - 68ms/epoch - 2ms/step\n",
            "Epoch 47/100\n",
            "35/35 - 0s - loss: 0.3114 - department_output_loss: 0.2460 - attrition_output_loss: 0.0654 - department_output_accuracy: 0.9238 - attrition_output_accuracy: 0.9800 - 68ms/epoch - 2ms/step\n",
            "Epoch 48/100\n",
            "35/35 - 0s - loss: 0.3189 - department_output_loss: 0.2559 - attrition_output_loss: 0.0631 - department_output_accuracy: 0.9111 - attrition_output_accuracy: 0.9855 - 74ms/epoch - 2ms/step\n",
            "Epoch 49/100\n",
            "35/35 - 0s - loss: 0.2878 - department_output_loss: 0.2287 - attrition_output_loss: 0.0592 - department_output_accuracy: 0.9238 - attrition_output_accuracy: 0.9864 - 74ms/epoch - 2ms/step\n",
            "Epoch 50/100\n",
            "35/35 - 0s - loss: 0.2859 - department_output_loss: 0.2244 - attrition_output_loss: 0.0615 - department_output_accuracy: 0.9174 - attrition_output_accuracy: 0.9846 - 68ms/epoch - 2ms/step\n",
            "Epoch 51/100\n",
            "35/35 - 0s - loss: 0.2729 - department_output_loss: 0.2227 - attrition_output_loss: 0.0502 - department_output_accuracy: 0.9201 - attrition_output_accuracy: 0.9909 - 71ms/epoch - 2ms/step\n",
            "Epoch 52/100\n",
            "35/35 - 0s - loss: 0.2644 - department_output_loss: 0.2114 - attrition_output_loss: 0.0531 - department_output_accuracy: 0.9283 - attrition_output_accuracy: 0.9891 - 64ms/epoch - 2ms/step\n",
            "Epoch 53/100\n",
            "35/35 - 0s - loss: 0.2511 - department_output_loss: 0.2008 - attrition_output_loss: 0.0503 - department_output_accuracy: 0.9338 - attrition_output_accuracy: 0.9882 - 57ms/epoch - 2ms/step\n",
            "Epoch 54/100\n",
            "35/35 - 0s - loss: 0.2265 - department_output_loss: 0.1798 - attrition_output_loss: 0.0468 - department_output_accuracy: 0.9483 - attrition_output_accuracy: 0.9873 - 53ms/epoch - 2ms/step\n",
            "Epoch 55/100\n",
            "35/35 - 0s - loss: 0.2206 - department_output_loss: 0.1770 - attrition_output_loss: 0.0435 - department_output_accuracy: 0.9510 - attrition_output_accuracy: 0.9900 - 63ms/epoch - 2ms/step\n",
            "Epoch 56/100\n",
            "35/35 - 0s - loss: 0.2021 - department_output_loss: 0.1609 - attrition_output_loss: 0.0412 - department_output_accuracy: 0.9564 - attrition_output_accuracy: 0.9918 - 67ms/epoch - 2ms/step\n",
            "Epoch 57/100\n",
            "35/35 - 0s - loss: 0.2069 - department_output_loss: 0.1711 - attrition_output_loss: 0.0358 - department_output_accuracy: 0.9465 - attrition_output_accuracy: 0.9936 - 70ms/epoch - 2ms/step\n",
            "Epoch 58/100\n",
            "35/35 - 0s - loss: 0.1987 - department_output_loss: 0.1633 - attrition_output_loss: 0.0354 - department_output_accuracy: 0.9574 - attrition_output_accuracy: 0.9927 - 70ms/epoch - 2ms/step\n",
            "Epoch 59/100\n",
            "35/35 - 0s - loss: 0.1871 - department_output_loss: 0.1501 - attrition_output_loss: 0.0370 - department_output_accuracy: 0.9601 - attrition_output_accuracy: 0.9927 - 70ms/epoch - 2ms/step\n",
            "Epoch 60/100\n",
            "35/35 - 0s - loss: 0.1781 - department_output_loss: 0.1381 - attrition_output_loss: 0.0401 - department_output_accuracy: 0.9619 - attrition_output_accuracy: 0.9909 - 70ms/epoch - 2ms/step\n",
            "Epoch 61/100\n",
            "35/35 - 0s - loss: 0.1726 - department_output_loss: 0.1322 - attrition_output_loss: 0.0404 - department_output_accuracy: 0.9637 - attrition_output_accuracy: 0.9855 - 73ms/epoch - 2ms/step\n",
            "Epoch 62/100\n",
            "35/35 - 0s - loss: 0.1843 - department_output_loss: 0.1341 - attrition_output_loss: 0.0502 - department_output_accuracy: 0.9610 - attrition_output_accuracy: 0.9828 - 68ms/epoch - 2ms/step\n",
            "Epoch 63/100\n",
            "35/35 - 0s - loss: 0.1599 - department_output_loss: 0.1203 - attrition_output_loss: 0.0397 - department_output_accuracy: 0.9737 - attrition_output_accuracy: 0.9946 - 69ms/epoch - 2ms/step\n",
            "Epoch 64/100\n",
            "35/35 - 0s - loss: 0.1588 - department_output_loss: 0.1163 - attrition_output_loss: 0.0425 - department_output_accuracy: 0.9710 - attrition_output_accuracy: 0.9873 - 70ms/epoch - 2ms/step\n",
            "Epoch 65/100\n",
            "35/35 - 0s - loss: 0.1362 - department_output_loss: 0.1051 - attrition_output_loss: 0.0311 - department_output_accuracy: 0.9800 - attrition_output_accuracy: 0.9936 - 68ms/epoch - 2ms/step\n",
            "Epoch 66/100\n",
            "35/35 - 0s - loss: 0.1254 - department_output_loss: 0.1022 - attrition_output_loss: 0.0232 - department_output_accuracy: 0.9800 - attrition_output_accuracy: 0.9955 - 52ms/epoch - 1ms/step\n",
            "Epoch 67/100\n",
            "35/35 - 0s - loss: 0.1229 - department_output_loss: 0.0997 - attrition_output_loss: 0.0232 - department_output_accuracy: 0.9791 - attrition_output_accuracy: 0.9964 - 51ms/epoch - 1ms/step\n",
            "Epoch 68/100\n",
            "35/35 - 0s - loss: 0.1201 - department_output_loss: 0.0964 - attrition_output_loss: 0.0237 - department_output_accuracy: 0.9782 - attrition_output_accuracy: 0.9964 - 61ms/epoch - 2ms/step\n",
            "Epoch 69/100\n",
            "35/35 - 0s - loss: 0.1049 - department_output_loss: 0.0856 - attrition_output_loss: 0.0193 - department_output_accuracy: 0.9837 - attrition_output_accuracy: 0.9982 - 70ms/epoch - 2ms/step\n",
            "Epoch 70/100\n",
            "35/35 - 0s - loss: 0.1000 - department_output_loss: 0.0808 - attrition_output_loss: 0.0193 - department_output_accuracy: 0.9873 - attrition_output_accuracy: 0.9964 - 68ms/epoch - 2ms/step\n",
            "Epoch 71/100\n",
            "35/35 - 0s - loss: 0.1183 - department_output_loss: 0.0933 - attrition_output_loss: 0.0250 - department_output_accuracy: 0.9764 - attrition_output_accuracy: 0.9936 - 62ms/epoch - 2ms/step\n",
            "Epoch 72/100\n",
            "35/35 - 0s - loss: 0.1416 - department_output_loss: 0.1207 - attrition_output_loss: 0.0210 - department_output_accuracy: 0.9664 - attrition_output_accuracy: 0.9973 - 54ms/epoch - 2ms/step\n",
            "Epoch 73/100\n",
            "35/35 - 0s - loss: 0.1107 - department_output_loss: 0.0929 - attrition_output_loss: 0.0178 - department_output_accuracy: 0.9782 - attrition_output_accuracy: 0.9973 - 51ms/epoch - 1ms/step\n",
            "Epoch 74/100\n",
            "35/35 - 0s - loss: 0.0904 - department_output_loss: 0.0695 - attrition_output_loss: 0.0208 - department_output_accuracy: 0.9864 - attrition_output_accuracy: 0.9955 - 54ms/epoch - 2ms/step\n",
            "Epoch 75/100\n",
            "35/35 - 0s - loss: 0.0870 - department_output_loss: 0.0658 - attrition_output_loss: 0.0212 - department_output_accuracy: 0.9955 - attrition_output_accuracy: 0.9955 - 50ms/epoch - 1ms/step\n",
            "Epoch 76/100\n",
            "35/35 - 0s - loss: 0.0820 - department_output_loss: 0.0605 - attrition_output_loss: 0.0215 - department_output_accuracy: 0.9936 - attrition_output_accuracy: 0.9955 - 50ms/epoch - 1ms/step\n",
            "Epoch 77/100\n",
            "35/35 - 0s - loss: 0.0744 - department_output_loss: 0.0577 - attrition_output_loss: 0.0167 - department_output_accuracy: 0.9964 - attrition_output_accuracy: 0.9955 - 48ms/epoch - 1ms/step\n",
            "Epoch 78/100\n",
            "35/35 - 0s - loss: 0.0758 - department_output_loss: 0.0609 - attrition_output_loss: 0.0149 - department_output_accuracy: 0.9927 - attrition_output_accuracy: 0.9982 - 49ms/epoch - 1ms/step\n",
            "Epoch 79/100\n",
            "35/35 - 0s - loss: 0.0680 - department_output_loss: 0.0557 - attrition_output_loss: 0.0124 - department_output_accuracy: 0.9918 - attrition_output_accuracy: 0.9982 - 47ms/epoch - 1ms/step\n",
            "Epoch 80/100\n",
            "35/35 - 0s - loss: 0.0906 - department_output_loss: 0.0778 - attrition_output_loss: 0.0128 - department_output_accuracy: 0.9828 - attrition_output_accuracy: 0.9991 - 63ms/epoch - 2ms/step\n",
            "Epoch 81/100\n",
            "35/35 - 0s - loss: 0.1007 - department_output_loss: 0.0868 - attrition_output_loss: 0.0140 - department_output_accuracy: 0.9701 - attrition_output_accuracy: 0.9973 - 67ms/epoch - 2ms/step\n",
            "Epoch 82/100\n",
            "35/35 - 0s - loss: 0.0775 - department_output_loss: 0.0641 - attrition_output_loss: 0.0134 - department_output_accuracy: 0.9891 - attrition_output_accuracy: 0.9964 - 80ms/epoch - 2ms/step\n",
            "Epoch 83/100\n",
            "35/35 - 0s - loss: 0.0770 - department_output_loss: 0.0553 - attrition_output_loss: 0.0217 - department_output_accuracy: 0.9936 - attrition_output_accuracy: 0.9927 - 62ms/epoch - 2ms/step\n",
            "Epoch 84/100\n",
            "35/35 - 0s - loss: 0.0716 - department_output_loss: 0.0481 - attrition_output_loss: 0.0234 - department_output_accuracy: 0.9955 - attrition_output_accuracy: 0.9918 - 68ms/epoch - 2ms/step\n",
            "Epoch 85/100\n",
            "35/35 - 0s - loss: 0.0760 - department_output_loss: 0.0522 - attrition_output_loss: 0.0238 - department_output_accuracy: 0.9936 - attrition_output_accuracy: 0.9936 - 65ms/epoch - 2ms/step\n",
            "Epoch 86/100\n",
            "35/35 - 0s - loss: 0.0695 - department_output_loss: 0.0536 - attrition_output_loss: 0.0159 - department_output_accuracy: 0.9864 - attrition_output_accuracy: 0.9982 - 69ms/epoch - 2ms/step\n",
            "Epoch 87/100\n",
            "35/35 - 0s - loss: 0.0514 - department_output_loss: 0.0420 - attrition_output_loss: 0.0095 - department_output_accuracy: 0.9955 - attrition_output_accuracy: 0.9991 - 65ms/epoch - 2ms/step\n",
            "Epoch 88/100\n",
            "35/35 - 0s - loss: 0.0476 - department_output_loss: 0.0382 - attrition_output_loss: 0.0094 - department_output_accuracy: 0.9964 - attrition_output_accuracy: 0.9991 - 67ms/epoch - 2ms/step\n",
            "Epoch 89/100\n",
            "35/35 - 0s - loss: 0.0507 - department_output_loss: 0.0415 - attrition_output_loss: 0.0093 - department_output_accuracy: 0.9955 - attrition_output_accuracy: 0.9982 - 69ms/epoch - 2ms/step\n",
            "Epoch 90/100\n",
            "35/35 - 0s - loss: 0.0490 - department_output_loss: 0.0400 - attrition_output_loss: 0.0090 - department_output_accuracy: 0.9964 - attrition_output_accuracy: 0.9982 - 67ms/epoch - 2ms/step\n",
            "Epoch 91/100\n",
            "35/35 - 0s - loss: 0.0469 - department_output_loss: 0.0375 - attrition_output_loss: 0.0094 - department_output_accuracy: 0.9946 - attrition_output_accuracy: 0.9991 - 69ms/epoch - 2ms/step\n",
            "Epoch 92/100\n",
            "35/35 - 0s - loss: 0.0475 - department_output_loss: 0.0400 - attrition_output_loss: 0.0075 - department_output_accuracy: 0.9918 - attrition_output_accuracy: 0.9991 - 68ms/epoch - 2ms/step\n",
            "Epoch 93/100\n",
            "35/35 - 0s - loss: 0.0367 - department_output_loss: 0.0293 - attrition_output_loss: 0.0074 - department_output_accuracy: 0.9973 - attrition_output_accuracy: 0.9982 - 72ms/epoch - 2ms/step\n",
            "Epoch 94/100\n",
            "35/35 - 0s - loss: 0.0370 - department_output_loss: 0.0266 - attrition_output_loss: 0.0104 - department_output_accuracy: 0.9982 - attrition_output_accuracy: 0.9973 - 77ms/epoch - 2ms/step\n",
            "Epoch 95/100\n",
            "35/35 - 0s - loss: 0.0390 - department_output_loss: 0.0268 - attrition_output_loss: 0.0122 - department_output_accuracy: 0.9973 - attrition_output_accuracy: 0.9973 - 53ms/epoch - 2ms/step\n",
            "Epoch 96/100\n",
            "35/35 - 0s - loss: 0.0499 - department_output_loss: 0.0272 - attrition_output_loss: 0.0227 - department_output_accuracy: 0.9982 - attrition_output_accuracy: 0.9909 - 56ms/epoch - 2ms/step\n",
            "Epoch 97/100\n",
            "35/35 - 0s - loss: 0.0895 - department_output_loss: 0.0350 - attrition_output_loss: 0.0545 - department_output_accuracy: 0.9955 - attrition_output_accuracy: 0.9855 - 69ms/epoch - 2ms/step\n",
            "Epoch 98/100\n",
            "35/35 - 0s - loss: 0.0826 - department_output_loss: 0.0433 - attrition_output_loss: 0.0394 - department_output_accuracy: 0.9918 - attrition_output_accuracy: 0.9846 - 68ms/epoch - 2ms/step\n",
            "Epoch 99/100\n",
            "35/35 - 0s - loss: 0.0657 - department_output_loss: 0.0470 - attrition_output_loss: 0.0187 - department_output_accuracy: 0.9918 - attrition_output_accuracy: 0.9955 - 69ms/epoch - 2ms/step\n",
            "Epoch 100/100\n",
            "35/35 - 0s - loss: 0.0444 - department_output_loss: 0.0312 - attrition_output_loss: 0.0132 - department_output_accuracy: 0.9955 - attrition_output_accuracy: 0.9991 - 69ms/epoch - 2ms/step\n"
          ]
        },
        {
          "data": {
            "text/plain": [
              "<keras.src.callbacks.History at 0x16d20176e60>"
            ]
          },
          "execution_count": 110,
          "metadata": {},
          "output_type": "execute_result"
        }
      ],
      "source": [
        "# Train the model\n",
        "model.fit(X_train_scaled, {'department_output': department_encoded_train.toarray(),\n",
        "                           'attrition_output': attrition_encoded_train.toarray()},\n",
        "          epochs=100, shuffle=True, verbose=2)"
      ]
    },
    {
      "cell_type": "code",
      "execution_count": 111,
      "metadata": {
        "colab": {
          "base_uri": "https://localhost:8080/"
        },
        "id": "VsMoaQlgGc3U",
        "outputId": "1bd4e601-e964-4abc-ad83-aeecf6b696be"
      },
      "outputs": [
        {
          "name": "stdout",
          "output_type": "stream",
          "text": [
            "12/12 - 0s - loss: 4.2427 - department_output_loss: 2.7152 - attrition_output_loss: 1.5275 - department_output_accuracy: 0.5163 - attrition_output_accuracy: 0.8342 - 157ms/epoch - 13ms/step\n"
          ]
        },
        {
          "data": {
            "text/plain": [
              "[4.242732048034668,\n",
              " 2.7152259349823,\n",
              " 1.5275061130523682,\n",
              " 0.5163043737411499,\n",
              " 0.83423912525177]"
            ]
          },
          "execution_count": 111,
          "metadata": {},
          "output_type": "execute_result"
        }
      ],
      "source": [
        "# Evaluate the model with the testing data\n",
        "test_results = model.evaluate(X_test_scaled, {'department_output': department_encoded_test.toarray(),\n",
        "                                                            'attrition_output': attrition_encoded_test.toarray()},\n",
        "                                            verbose=2)\n",
        "test_results                                    "
      ]
    },
    {
      "cell_type": "code",
      "execution_count": 112,
      "metadata": {
        "colab": {
          "base_uri": "https://localhost:8080/"
        },
        "id": "ZlCtlHi0Vt54",
        "outputId": "bc21ef3e-80c2-4b38-9c29-79515bc23dec"
      },
      "outputs": [
        {
          "name": "stdout",
          "output_type": "stream",
          "text": [
            "Department predictions accuracy: 0.5163043737411499\n",
            "Attrition predictions accuracy: 0.83423912525177\n"
          ]
        }
      ],
      "source": [
        "# Print the accuracy for both department and attrition\n",
        "print(f\"Department predictions accuracy: {test_results[3]}\")\n",
        "print(f\"Attrition predictions accuracy: {test_results[4]}\")\n"
      ]
    },
    {
      "cell_type": "markdown",
      "metadata": {
        "id": "eGSyfsZfWOQM"
      },
      "source": [
        "# Summary\n",
        "\n",
        "In the provided space below, briefly answer the following questions.\n",
        "\n",
        "1. Is accuracy the best metric to use on this data? Why or why not?\n",
        "\n",
        "2. What activation functions did you choose for your output layers, and why?\n",
        "\n",
        "3. Can you name a few ways that this model might be improved?"
      ]
    },
    {
      "cell_type": "markdown",
      "metadata": {
        "id": "pi9SLpFnWvbF"
      },
      "source": [
        "YOUR ANSWERS HERE\n",
        "\n",
        "1. No, accuracy is not the best metric to use on this data because the data is imbalanced. For example, regarding Department classification, Reasearch&Development had significantly more samples than the Sales and HR departments which might be biased toward the majority class. Also, with regard to Attrition, the number of employees who left the company is much smaller than the number of employees who stayed. This imbalance can lead to a high accuracy score that is misleading.\n",
        "\n",
        "2. I chose the 'softmax' activation function for the Department output layer because it is a multi-class classification problem. The 'softmax' function is used to predict the probability of each class, and the sum of all probabilities is equal to 1. For the Attrition output layer, I chose the 'sigmoid' activation function because it is a binary classification problem. The 'sigmoid' function outputs values between 0 and 1, which can be interpreted as probabilities for the two classes.\n",
        "\n",
        "3. The model can be improved by tuning the hyperparameters, such as the number of hidden layers, the number of neurons in each layer, and the number of epochs. Additionally, we can try different activation functions. Lastly, we can try oversampling or undersampling techniques to address the imbalanced data issue and improve the model's accuracy.\n"
      ]
    },
    {
      "cell_type": "markdown",
      "metadata": {},
      "source": []
    }
  ],
  "metadata": {
    "colab": {
      "provenance": []
    },
    "kernelspec": {
      "display_name": "Python 3",
      "language": "python",
      "name": "python3"
    },
    "language_info": {
      "codemirror_mode": {
        "name": "ipython",
        "version": 3
      },
      "file_extension": ".py",
      "mimetype": "text/x-python",
      "name": "python",
      "nbconvert_exporter": "python",
      "pygments_lexer": "ipython3",
      "version": "3.10.13"
    },
    "vscode": {
      "interpreter": {
        "hash": "31f2aee4e71d21fbe5cf8b01ff0e069b9275f58929596ceb00d14d90e3e16cd6"
      }
    }
  },
  "nbformat": 4,
  "nbformat_minor": 0
}
